{
 "cells": [
  {
   "cell_type": "code",
   "execution_count": null,
   "metadata": {
    "collapsed": true
   },
   "outputs": [],
   "source": [
    "from supportLibrary import *\n",
    "from IPython.display import display\n",
    "import ipywidgets as widgets\n",
    "import pandas as pd"
   ]
  },
  {
   "cell_type": "markdown",
   "metadata": {},
   "source": [
    "## Identify Significant Columns\n",
    "\n",
    "Identify the Device ID and Time columns from the dataset.\n",
    "\n",
    "#### Device ID\n",
    "This column identifies which device the recorded the datapoint.\n",
    "\n",
    "#### Time\n",
    "This column represents how much time the device has left before it will malfunction."
   ]
  },
  {
   "cell_type": "code",
   "execution_count": null,
   "metadata": {},
   "outputs": [],
   "source": [
    "df = pd.read_csv('current2.csv')\n",
    "deviceIDColumnName, timeColumnName, ui = getDeviceCountsConfiguration(df)\n",
    "display(ui)"
   ]
  },
  {
   "cell_type": "markdown",
   "metadata": {},
   "source": [
    "## Calculate Statistical Significance\n",
    "\n",
    "An adequate sample size is an important feature of any empirical study in which the goal is to make inferences about a population from a sample. In order to extrapolate the findings of this exploration onto a larger population, the dataset must contain an adequate number of sampled devices."
   ]
  },
  {
   "cell_type": "code",
   "execution_count": null,
   "metadata": {},
   "outputs": [],
   "source": [
    "confidenceLevel, populationSize, ui = getConfidenceLevelAndPopulation()\n",
    "display(ui)"
   ]
  },
  {
   "cell_type": "code",
   "execution_count": null,
   "metadata": {},
   "outputs": [],
   "source": [
    "numDevices, minimumDevicesNeeded, maximumPopulationSize = calculateSampleSize(df, deviceIDColumnName.value, confidenceLevel.value, populationSize.value)\n",
    "print('Number of Devices in Dataset: {}'.format(numDevices))\n",
    "print('Minimum Number of Devices Needed to Represent a Population of {} Devices: {}'.format(populationSize.value, minimumDevicesNeeded))\n",
    "print('Maximum Population Which {} Devices Could Represent: {}'.format(maximumPopulationSize, numDevices))"
   ]
  },
  {
   "cell_type": "markdown",
   "metadata": {},
   "source": [
    "## Inspect the Number of Datapoints per Device\n",
    "\n",
    "Visualizing the number of datapoints per device helps to understand the range of datapoint counts as well as identify any outlier devices with significantly more or less datapoints than the other devices."
   ]
  },
  {
   "cell_type": "code",
   "execution_count": null,
   "metadata": {},
   "outputs": [],
   "source": [
    "displayDeviceCounts(df, deviceIDColumnName.value, timeColumnName.value)"
   ]
  },
  {
   "cell_type": "markdown",
   "metadata": {},
   "source": [
    "## Understanding Data Through Histograms\n",
    "\n",
    "Visualizing feature value distributions helps identify the range and spread of the recorded features."
   ]
  },
  {
   "cell_type": "code",
   "execution_count": null,
   "metadata": {},
   "outputs": [],
   "source": [
    "histCheckboxList, ui = getFeaturesToShow(df, deviceIDColumnName.value, timeColumnName.value)\n",
    "display(ui)"
   ]
  },
  {
   "cell_type": "code",
   "execution_count": null,
   "metadata": {
    "scrolled": false
   },
   "outputs": [],
   "source": [
    "displayFeatureHistograms(df, histCheckboxList)"
   ]
  },
  {
   "cell_type": "markdown",
   "metadata": {},
   "source": [
    "## Understanding Data Through Feature Plots\n",
    "\n",
    "Visualizing the change over feature values over time helps identify features which potentially do not add any information to the system, such as features containing too much noise or features which are identical across all devices."
   ]
  },
  {
   "cell_type": "code",
   "execution_count": null,
   "metadata": {},
   "outputs": [],
   "source": [
    "plotCheckboxList, numDevicesToShow, ui = getFeaturePlotsConfiguration(df, deviceIDColumnName.value, timeColumnName.value)\n",
    "display(ui)"
   ]
  },
  {
   "cell_type": "code",
   "execution_count": null,
   "metadata": {
    "scrolled": false
   },
   "outputs": [],
   "source": [
    "displayFeaturePlots(df, deviceIDColumnName.value, timeColumnName.value, plotCheckboxList, numDevicesToShow.value)"
   ]
  },
  {
   "cell_type": "markdown",
   "metadata": {},
   "source": [
    "## Save DataSet for Next Step"
   ]
  },
  {
   "cell_type": "code",
   "execution_count": null,
   "metadata": {
    "collapsed": true
   },
   "outputs": [],
   "source": [
    "df2 = df.rename(columns = {deviceIDColumnName.value: 'deviceID', timeColumnName.value: 'time'})\n",
    "df2.to_csv(\"current3.csv\", index=False)"
   ]
  },
  {
   "cell_type": "code",
   "execution_count": null,
   "metadata": {
    "collapsed": true
   },
   "outputs": [],
   "source": []
  }
 ],
 "metadata": {
  "kernelspec": {
   "display_name": "Python 3",
   "language": "python",
   "name": "python3"
  },
  "language_info": {
   "codemirror_mode": {
    "name": "ipython",
    "version": 3
   },
   "file_extension": ".py",
   "mimetype": "text/x-python",
   "name": "python",
   "nbconvert_exporter": "python",
   "pygments_lexer": "ipython3",
   "version": "3.6.1"
  }
 },
 "nbformat": 4,
 "nbformat_minor": 2
}
