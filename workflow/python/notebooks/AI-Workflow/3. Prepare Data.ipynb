{
 "cells": [
  {
   "cell_type": "code",
   "execution_count": null,
   "metadata": {
    "collapsed": true
   },
   "outputs": [],
   "source": [
    "from supportLibrary import *\n",
    "from IPython.display import display\n",
    "import ipywidgets as widgets\n",
    "import pandas as pd"
   ]
  },
  {
   "cell_type": "markdown",
   "metadata": {},
   "source": [
    "## Calculate Moving Averages\n",
    "\n",
    "Sensors recordings are often subject to noise from their environment. Calculating the moving average of noisey features helps eliminate uncertainty and outliers in volatile data."
   ]
  },
  {
   "cell_type": "code",
   "execution_count": null,
   "metadata": {},
   "outputs": [],
   "source": [
    "df = pd.read_csv('current3.csv')\n",
    "\n",
    "movingAvgCheckboxList, rollingWindow, ui = getMovingAvgChosenFeaturesConfiguration(df)\n",
    "display(ui)"
   ]
  },
  {
   "cell_type": "code",
   "execution_count": null,
   "metadata": {},
   "outputs": [],
   "source": [
    "df2 = calculateMovingAvg(df, movingAvgCheckboxList, rollingWindow.value)\n",
    "numDevicesToShow, ui = getNumDevicesToShowForMovingAvg(df2)\n",
    "display(ui)"
   ]
  },
  {
   "cell_type": "code",
   "execution_count": null,
   "metadata": {
    "scrolled": false
   },
   "outputs": [],
   "source": [
    "displayMovingAvgFeatures(df2, numDevicesToShow.value, movingAvgCheckboxList)"
   ]
  },
  {
   "cell_type": "markdown",
   "metadata": {},
   "source": [
    "## Select Which Features to Keep\n",
    "\n",
    "Make sure to prune any features which are too noisey or which will otherwise not add any useful information to the system."
   ]
  },
  {
   "cell_type": "code",
   "execution_count": null,
   "metadata": {
    "collapsed": true
   },
   "outputs": [],
   "source": [
    "keepCheckboxList, ui = getFeaturesToKeep(df2)\n",
    "display(ui)"
   ]
  },
  {
   "cell_type": "code",
   "execution_count": null,
   "metadata": {
    "collapsed": true
   },
   "outputs": [],
   "source": [
    "df3 = discardUnwantedFeatures(df2, keepCheckboxList)\n",
    "targetThreshold, ui = getTargetThreshold(df3)\n",
    "display(ui)"
   ]
  },
  {
   "cell_type": "markdown",
   "metadata": {},
   "source": [
    "## Calculate Target and Visualize its Distribution\n",
    "\n",
    "The threshold is used to calculate the target column- any datapoint with less time remaining than the threshold will be labelled \"1\" and will be considered \"ready for maintenance\" while any datapoint with more time remaining than the threshold will be labelled \"0\" and will be considered \"not ready for maintenance\".\n",
    "\n",
    "Compare the number of datapoints ready for maintenance compared to those which are not. Use the Confusion Matrix displayed below to consider how tolerant the machine learning model should be to False Positives and False Negatives.\n",
    "![title](Images/confusionMatrix.png)"
   ]
  },
  {
   "cell_type": "code",
   "execution_count": null,
   "metadata": {
    "scrolled": false
   },
   "outputs": [],
   "source": [
    "df4 = calculateTargetColumn(df3, targetThreshold.value)\n",
    "displayTargetHist(df4)\n",
    "df4.to_csv(\"current4.csv\", index=False)"
   ]
  },
  {
   "cell_type": "code",
   "execution_count": null,
   "metadata": {
    "collapsed": true
   },
   "outputs": [],
   "source": []
  }
 ],
 "metadata": {
  "kernelspec": {
   "display_name": "Python 3",
   "language": "python",
   "name": "python3"
  },
  "language_info": {
   "codemirror_mode": {
    "name": "ipython",
    "version": 3
   },
   "file_extension": ".py",
   "mimetype": "text/x-python",
   "name": "python",
   "nbconvert_exporter": "python",
   "pygments_lexer": "ipython3",
   "version": "3.6.1"
  }
 },
 "nbformat": 4,
 "nbformat_minor": 2
}
